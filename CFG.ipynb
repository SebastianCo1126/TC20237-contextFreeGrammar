{
  "nbformat": 4,
  "nbformat_minor": 0,
  "metadata": {
    "colab": {
      "provenance": []
    },
    "kernelspec": {
      "name": "python3",
      "display_name": "Python 3"
    },
    "language_info": {
      "name": "python"
    }
  },
  "cells": [
    {
      "cell_type": "code",
      "source": [
        "import nltk\n",
        "from nltk import CFG\n",
        "\n",
        "nltk.download('punkt')\n",
        "\n",
        "grammar = CFG.fromstring(\"\"\"\n",
        "    S -> E\n",
        "    E -> P F\n",
        "    F -> '+' E |'-' E | '.'\n",
        "    P -> INT T DIFF\n",
        "    T -> VAR EXP | CONST R | CONST | '.'\n",
        "    R -> VAR EXP | CONST T | '.'\n",
        "    INT -> '%'\n",
        "    DIFF -> 'dx'\n",
        "    VAR -> 'x'\n",
        "    CONST -> '0' | '1' | '2' | '3' | '4' | '5' | '6' | '7' | '8' | '9'\n",
        "    EXP -> '^' CONST | '.'\n",
        "\"\"\")\n",
        "\n",
        "parser = nltk.ChartParser(grammar)\n",
        "\n",
        "\n",
        "def parseIntegral(integral):\n",
        "    '''\n",
        "      Parse the given integral expression and print its parse tree.\n",
        "\n",
        "      Args:\n",
        "          integral (str): The integral expression to parse.\n",
        "\n",
        "      Returns:\n",
        "          None\n",
        "    '''\n",
        "    flag = False\n",
        "    tokens = nltk.word_tokenize(integral)\n",
        "\n",
        "    # Parse the integral\n",
        "    for tree in parser.parse(tokens):\n",
        "        tree.pretty_print()\n",
        "        flag = True\n",
        "\n",
        "    print(flag)\n"
      ],
      "metadata": {
        "id": "jQuqm8hMGMb0",
        "colab": {
          "base_uri": "https://localhost:8080/"
        },
        "outputId": "dc5db474-88bb-4f67-875d-82d8a4ee071f"
      },
      "execution_count": 2,
      "outputs": [
        {
          "output_type": "stream",
          "name": "stderr",
          "text": [
            "[nltk_data] Downloading package punkt to /root/nltk_data...\n",
            "[nltk_data]   Unzipping tokenizers/punkt.zip.\n"
          ]
        }
      ]
    },
    {
      "cell_type": "markdown",
      "source": [
        "# Tests section"
      ],
      "metadata": {
        "id": "G2Z2OHW8VDS9"
      }
    },
    {
      "cell_type": "markdown",
      "source": [
        "### Test 1"
      ],
      "metadata": {
        "id": "XEYOoT6tYghm"
      }
    },
    {
      "cell_type": "code",
      "source": [
        "# Input sentence to be parsed\n",
        "sentence = \"% 2 x ^ 2 dx .\"\n",
        "\n",
        "# Function call for parsing\n",
        "parseIntegral(sentence)"
      ],
      "metadata": {
        "colab": {
          "base_uri": "https://localhost:8080/"
        },
        "id": "e-r3l3nXVCO0",
        "outputId": "83fe0e9d-ced9-492f-bb02-10c75b373599"
      },
      "execution_count": 3,
      "outputs": [
        {
          "output_type": "stream",
          "name": "stdout",
          "text": [
            "                   S                    \n",
            "                   |                     \n",
            "                   E                    \n",
            "            _______|__________________   \n",
            "           P                          | \n",
            "  _________|_____________________     |  \n",
            " |             T                 |    | \n",
            " |     ________|___              |    |  \n",
            " |    |            R             |    | \n",
            " |    |     _______|___          |    |  \n",
            " |    |    |          EXP        |    | \n",
            " |    |    |        ___|____     |    |  \n",
            "INT CONST VAR      |      CONST DIFF  F \n",
            " |    |    |       |        |    |    |  \n",
            " %    2    x       ^        2    dx   . \n",
            "\n",
            "True\n"
          ]
        }
      ]
    },
    {
      "cell_type": "markdown",
      "source": [
        "### Test 2"
      ],
      "metadata": {
        "id": "9taGwStCYk33"
      }
    },
    {
      "cell_type": "code",
      "source": [
        "# Input sentence to be parsed\n",
        "sentence2 = \"% 2 x ^ 2 dx + % 7 dx .\"\n",
        "\n",
        "# Function call for parsing\n",
        "parseIntegral(sentence2)"
      ],
      "metadata": {
        "colab": {
          "base_uri": "https://localhost:8080/"
        },
        "id": "NQraAvE0YmOl",
        "outputId": "3915135e-7943-4e64-9e5b-c371ac540cea"
      },
      "execution_count": 4,
      "outputs": [
        {
          "output_type": "stream",
          "name": "stdout",
          "text": [
            "                                 S                             \n",
            "                                 |                              \n",
            "                                 E                             \n",
            "            _____________________|_____________                 \n",
            "           P                                   F               \n",
            "  _________|_____________________      ________|____            \n",
            " |             T                 |    |             E          \n",
            " |     ________|___              |    |         ____|________   \n",
            " |    |            R             |    |        P             | \n",
            " |    |     _______|___          |    |    ____|________     |  \n",
            " |    |    |          EXP        |    |   |    T        |    | \n",
            " |    |    |        ___|____     |    |   |    |        |    |  \n",
            "INT CONST VAR      |      CONST DIFF  |  INT CONST     DIFF  F \n",
            " |    |    |       |        |    |    |   |    |        |    |  \n",
            " %    2    x       ^        2    dx   +   %    7        dx   . \n",
            "\n",
            "True\n"
          ]
        }
      ]
    },
    {
      "cell_type": "markdown",
      "source": [
        "### Test 3"
      ],
      "metadata": {
        "id": "mSknEbafYsgk"
      }
    },
    {
      "cell_type": "code",
      "source": [
        "# Input sentence to be parsed\n",
        "sentence3 = \"% 2 x ^ 2 dx + % 5 x ^ 3 dx .\"\n",
        "\n",
        "# Function call for parsing\n",
        "parseIntegral(sentence3)"
      ],
      "metadata": {
        "colab": {
          "base_uri": "https://localhost:8080/"
        },
        "id": "T4iYKBJ8Y6kL",
        "outputId": "088db044-65ff-4db5-bd4c-3677f7633028"
      },
      "execution_count": 5,
      "outputs": [
        {
          "output_type": "stream",
          "name": "stdout",
          "text": [
            "                                      S                                          \n",
            "                                      |                                           \n",
            "                                      E                                          \n",
            "            __________________________|_____________                              \n",
            "           |                                        F                            \n",
            "           |                           _____________|_______                      \n",
            "           |                          |                     E                    \n",
            "           |                          |              _______|__________________   \n",
            "           P                          |             P                          | \n",
            "  _________|_____________________     |    _________|_____________________     |  \n",
            " |             T                 |    |   |             T                 |    | \n",
            " |     ________|___              |    |   |     ________|___              |    |  \n",
            " |    |            R             |    |   |    |            R             |    | \n",
            " |    |     _______|___          |    |   |    |     _______|___          |    |  \n",
            " |    |    |          EXP        |    |   |    |    |          EXP        |    | \n",
            " |    |    |        ___|____     |    |   |    |    |        ___|____     |    |  \n",
            "INT CONST VAR      |      CONST DIFF  |  INT CONST VAR      |      CONST DIFF  F \n",
            " |    |    |       |        |    |    |   |    |    |       |        |    |    |  \n",
            " %    2    x       ^        2    dx   +   %    5    x       ^        3    dx   . \n",
            "\n",
            "True\n"
          ]
        }
      ]
    },
    {
      "cell_type": "markdown",
      "source": [
        "### Test 4\n"
      ],
      "metadata": {
        "id": "YUxTKu2XZLKA"
      }
    },
    {
      "cell_type": "code",
      "source": [
        "# Input sentence to be parsed\n",
        "sentence4 = \"% 8 1 x ^ 8 dx - % 7 2 1 x ^ 2 dx + % 5 dx .\"\n",
        "\n",
        "# Function call for parsing\n",
        "parseIntegral(sentence4)"
      ],
      "metadata": {
        "colab": {
          "base_uri": "https://localhost:8080/"
        },
        "id": "Ie5ICduIZJ7m",
        "outputId": "b9e3bba9-2b1f-465c-8ca8-d2c6fda8ecf2"
      },
      "execution_count": 7,
      "outputs": [
        {
          "output_type": "stream",
          "name": "stdout",
          "text": [
            "                                                           S                                                              \n",
            "                                                           |                                                               \n",
            "                                                           E                                                              \n",
            "                  _________________________________________|__________________                                             \n",
            "                 |                                                            F                                           \n",
            "                 |                           _________________________________|________                                    \n",
            "                 |                          |                                          E                                  \n",
            "                 |                          |                     _____________________|__________________                 \n",
            "                 |                          |                    P                                        |               \n",
            "                 |                          |    ________________|__________________________              |                \n",
            "                 P                          |   |                T                          |             |               \n",
            "  _______________|_____________________     |   |     ___________|____                      |             |                \n",
            " |               T                     |    |   |    |                R                     |             F               \n",
            " |     __________|___                  |    |   |    |      __________|___                  |     ________|____            \n",
            " |    |              R                 |    |   |    |     |              T                 |    |             E          \n",
            " |    |      ________|___              |    |   |    |     |      ________|___              |    |         ____|________   \n",
            " |    |     |            T             |    |   |    |     |     |            R             |    |        P             | \n",
            " |    |     |     _______|___          |    |   |    |     |     |     _______|___          |    |    ____|________     |  \n",
            " |    |     |    |          EXP        |    |   |    |     |     |    |          EXP        |    |   |    T        |    | \n",
            " |    |     |    |        ___|____     |    |   |    |     |     |    |        ___|____     |    |   |    |        |    |  \n",
            "INT CONST CONST VAR      |      CONST DIFF  |  INT CONST CONST CONST VAR      |      CONST DIFF  |  INT CONST     DIFF  F \n",
            " |    |     |    |       |        |    |    |   |    |     |     |    |       |        |    |    |   |    |        |    |  \n",
            " %    8     1    x       ^        8    dx   -   %    7     2     1    x       ^        2    dx   +   %    5        dx   . \n",
            "\n",
            "True\n"
          ]
        }
      ]
    },
    {
      "cell_type": "markdown",
      "source": [
        "### Test 5"
      ],
      "metadata": {
        "id": "jPHZ245Kawgb"
      }
    },
    {
      "cell_type": "code",
      "source": [
        "# Input sentence to be parsed\n",
        "sentence5 = \"% 1 0 2 1 x . dx - % 1 2 x . dx + % 1 3 x ^ 9 dx - % 1 dx .\"\n",
        "\n",
        "# Function call for parsing\n",
        "parseIntegral(sentence5)"
      ],
      "metadata": {
        "colab": {
          "base_uri": "https://localhost:8080/"
        },
        "id": "gdjMWSRta2eH",
        "outputId": "af75c9c8-eb65-43f5-d7e4-3628518129be"
      },
      "execution_count": 9,
      "outputs": [
        {
          "output_type": "stream",
          "name": "stdout",
          "text": [
            "                                             S                                                                                                                     \n",
            "                                             |                                                                                                                      \n",
            "                                             E                                                                                                                     \n",
            "                   __________________________|___________________                                                                                                   \n",
            "                  |                                              F                                                                                                 \n",
            "                  |                                ______________|____________________                                                                              \n",
            "                  |                               |                                   E                                                                            \n",
            "                  |                               |               ____________________|___________________                                                          \n",
            "                  |                               |              |                                        F                                                        \n",
            "                  |                               |              |                          ______________|_____________________                                    \n",
            "                  P                               |              |                         |                                    E                                  \n",
            "  ________________|__________________________     |              |                         |                    ________________|__________________                 \n",
            " |                T                          |    |              |                         |                   P                                   |               \n",
            " |     ___________|_____                     |    |              |                         |    _______________|_____________________              |                \n",
            " |    |                 R                    |    |              P                         |   |               T                     |             F               \n",
            " |    |      ___________|____                |    |    __________|____________________     |   |     __________|___                  |     ________|____            \n",
            " |    |     |                T               |    |   |               T               |    |   |    |              R                 |    |             E          \n",
            " |    |     |      __________|___            |    |   |     __________|___            |    |   |    |      ________|___              |    |         ____|________   \n",
            " |    |     |     |              R           |    |   |    |              R           |    |   |    |     |            T             |    |        P             | \n",
            " |    |     |     |      ________|___        |    |   |    |      ________|___        |    |   |    |     |     _______|___          |    |    ____|________     |  \n",
            " |    |     |     |     |            T       |    |   |    |     |            T       |    |   |    |     |    |          EXP        |    |   |    T        |    | \n",
            " |    |     |     |     |         ___|___    |    |   |    |     |         ___|___    |    |   |    |     |    |        ___|____     |    |   |    |        |    |  \n",
            "INT CONST CONST CONST CONST     VAR     EXP DIFF  |  INT CONST CONST     VAR     EXP DIFF  |  INT CONST CONST VAR      |      CONST DIFF  |  INT CONST     DIFF  F \n",
            " |    |     |     |     |        |       |   |    |   |    |     |        |       |   |    |   |    |     |    |       |        |    |    |   |    |        |    |  \n",
            " %    1     0     2     1        x       .   dx   -   %    1     2        x       .   dx   +   %    1     3    x       ^        9    dx   -   %    1        dx   . \n",
            "\n",
            "True\n"
          ]
        }
      ]
    },
    {
      "cell_type": "markdown",
      "source": [
        "# Invalid tests"
      ],
      "metadata": {
        "id": "32i3JTdEedcj"
      }
    },
    {
      "cell_type": "markdown",
      "source": [
        "### Invalid test 1"
      ],
      "metadata": {
        "id": "vGeWzyjqefBP"
      }
    },
    {
      "cell_type": "code",
      "source": [
        "# Input sentence to be parsed\n",
        "sentence6 = \"% 1 3 x ^ 2 .\"\n",
        "\n",
        "# Function call for parsing\n",
        "parseIntegral(sentence6)"
      ],
      "metadata": {
        "id": "jEWhV6lPehVf",
        "colab": {
          "base_uri": "https://localhost:8080/"
        },
        "outputId": "832632b9-acb9-4594-aa9b-aca7eaae031a"
      },
      "execution_count": 11,
      "outputs": [
        {
          "output_type": "stream",
          "name": "stdout",
          "text": [
            "False\n"
          ]
        }
      ]
    },
    {
      "cell_type": "markdown",
      "source": [
        "This is an invalid test, so it outputs false."
      ],
      "metadata": {
        "id": "ote2DSyagEg1"
      }
    },
    {
      "cell_type": "markdown",
      "source": [
        "### Invalid test 2"
      ],
      "metadata": {
        "id": "wGhNxFc1gLRX"
      }
    },
    {
      "cell_type": "code",
      "source": [
        "# Input sentence to be parsed\n",
        "sentence7 = \"% 7 x ^ 2 dx + % 1 7 x  .\"\n",
        "\n",
        "# Function call for parsing\n",
        "parseIntegral(sentence7)"
      ],
      "metadata": {
        "colab": {
          "base_uri": "https://localhost:8080/"
        },
        "id": "k1CsSIBKgJmH",
        "outputId": "2adf9c6b-3bd3-41b6-e145-89426210ec3d"
      },
      "execution_count": 14,
      "outputs": [
        {
          "output_type": "stream",
          "name": "stdout",
          "text": [
            "False\n"
          ]
        }
      ]
    },
    {
      "cell_type": "markdown",
      "source": [
        "This is an invalid test, so the output is false.\n",
        "\n"
      ],
      "metadata": {
        "id": "qccPXywrguvY"
      }
    },
    {
      "cell_type": "markdown",
      "source": [
        "### Invalid test 3"
      ],
      "metadata": {
        "id": "QB6gBaXNg1QC"
      }
    },
    {
      "cell_type": "code",
      "source": [
        "# Input sentence to be parsed\n",
        "sentence8 = \"% 4 5 1 x ^ 1 0 dx .\"\n",
        "\n",
        "# Function call for parsing\n",
        "parseIntegral(sentence8)"
      ],
      "metadata": {
        "id": "H74wvqwDg5T7",
        "colab": {
          "base_uri": "https://localhost:8080/"
        },
        "outputId": "d1fbd4d0-f77d-4b00-8e3f-3f438322905c"
      },
      "execution_count": 15,
      "outputs": [
        {
          "output_type": "stream",
          "name": "stdout",
          "text": [
            "False\n"
          ]
        }
      ]
    },
    {
      "cell_type": "markdown",
      "source": [
        "This is an invalid test, so the output is false."
      ],
      "metadata": {
        "id": "p7YJHTL2hgQu"
      }
    },
    {
      "cell_type": "markdown",
      "source": [
        "### Invalid test 4"
      ],
      "metadata": {
        "id": "EiFl4yuJhijo"
      }
    },
    {
      "cell_type": "code",
      "source": [
        "# Input sentence to be parsed\n",
        "sentence9 = \"% 1 0 dx + % 9 x ^ 4 - 1 0 dx .\"\n",
        "\n",
        "# Function call for parsing\n",
        "parseIntegral(sentence9)"
      ],
      "metadata": {
        "id": "5G9V3_uMhh3r",
        "colab": {
          "base_uri": "https://localhost:8080/"
        },
        "outputId": "c2a7eb71-011d-4071-c4c6-f6133a0b3bc5"
      },
      "execution_count": 16,
      "outputs": [
        {
          "output_type": "stream",
          "name": "stdout",
          "text": [
            "False\n"
          ]
        }
      ]
    },
    {
      "cell_type": "markdown",
      "source": [
        "This is an invalid test, so the output is false.\n",
        "\n",
        "\n",
        "\n"
      ],
      "metadata": {
        "id": "QVD6yl2ojidc"
      }
    },
    {
      "cell_type": "markdown",
      "source": [
        "### Invalid test 5"
      ],
      "metadata": {
        "id": "1VnxlgQPkWWc"
      }
    },
    {
      "cell_type": "code",
      "source": [
        "# Input sentence to be parsed\n",
        "sentence10 = \"% 9 8 x ^ 5 dx - % 1 x ^ 2 + % 1 0 0 dx + 1 2 x dx\"\n",
        "\n",
        "# Function call for parsing\n",
        "parseIntegral(sentence10)"
      ],
      "metadata": {
        "colab": {
          "base_uri": "https://localhost:8080/"
        },
        "id": "dN-smFWJkZUA",
        "outputId": "1e2e4a7f-a627-4fef-a17c-69ac765e270b"
      },
      "execution_count": 17,
      "outputs": [
        {
          "output_type": "stream",
          "name": "stdout",
          "text": [
            "False\n"
          ]
        }
      ]
    },
    {
      "cell_type": "markdown",
      "source": [
        "This is an invalid test, so the output is false.\n",
        "\n",
        "\n",
        "\n"
      ],
      "metadata": {
        "id": "zYz4ricGklD8"
      }
    }
  ]
}